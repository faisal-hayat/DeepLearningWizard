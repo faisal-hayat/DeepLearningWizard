{
 "cells": [
  {
   "attachments": {},
   "cell_type": "markdown",
   "metadata": {},
   "source": [
    "# Linear Regression"
   ]
  },
  {
   "cell_type": "code",
   "execution_count": 10,
   "metadata": {},
   "outputs": [
    {
     "name": "stdout",
     "output_type": "stream",
     "text": [
      "torch version is : 2.0.0+cpu\n",
      "numpy version is : 1.23.5\n"
     ]
    }
   ],
   "source": [
    "import torch\n",
    "import warnings\n",
    "import numpy as np\n",
    "import torch.nn as nn\n",
    "import matplotlib.pyplot as plt\n",
    "\n",
    "warnings.filterwarnings('ignore', category=FutureWarning)\n",
    "\n",
    "print(f'torch version is : {torch.__version__}')\n",
    "print(f'numpy version is : {np.__version__}')"
   ]
  },
  {
   "attachments": {},
   "cell_type": "markdown",
   "metadata": {},
   "source": [
    "## Regression Model\n",
    "$$ y = \\alpha x + \\beta $$\n"
   ]
  },
  {
   "cell_type": "code",
   "execution_count": 3,
   "metadata": {},
   "outputs": [
    {
     "data": {
      "image/png": "[encoded data removed]",
      "text/plain": [
       "<Figure size 640x480 with 1 Axes>"
      ]
     },
     "metadata": {},
     "output_type": "display_data"
    }
   ],
   "source": [
    "# Creates 50 random x and y numbers\n",
    "np.random.seed(1)\n",
    "n = 50\n",
    "x = np.random.randn(n)\n",
    "y = x * np.random.randn(n)\n",
    "\n",
    "# Makes the dots colorful\n",
    "colors = np.random.rand(n)\n",
    "\n",
    "# Plots best-fit line via polyfit\n",
    "plt.plot(np.unique(x), np.poly1d(np.polyfit(x, y, 1))(np.unique(x)))\n",
    "\n",
    "# Plots the random x and y data points we created\n",
    "# Interestingly, alpha makes it more aesthetically pleasing\n",
    "plt.scatter(x, y, c=colors, alpha=0.5)\n",
    "plt.show()"
   ]
  },
  {
   "cell_type": "code",
   "execution_count": 4,
   "metadata": {},
   "outputs": [
    {
     "data": {
      "text/plain": [
       "(11,)"
      ]
     },
     "execution_count": 4,
     "metadata": {},
     "output_type": "execute_result"
    }
   ],
   "source": [
    "x_values = [i for i in range(11)]\n",
    "# Convert to numpy\n",
    "x_train = np.array(x_values, dtype=np.float32)\n",
    "x_train.shape"
   ]
  },
  {
   "cell_type": "code",
   "execution_count": 5,
   "metadata": {},
   "outputs": [
    {
     "data": {
      "text/plain": [
       "(11, 1)"
      ]
     },
     "execution_count": 5,
     "metadata": {},
     "output_type": "execute_result"
    }
   ],
   "source": [
    "# IMPORTANT: 2D required\n",
    "x_train = x_train.reshape(-1, 1)\n",
    "x_train.shape"
   ]
  },
  {
   "cell_type": "code",
   "execution_count": 6,
   "metadata": {},
   "outputs": [],
   "source": [
    "y_values = [2*i + 1 for i in x_values]"
   ]
  },
  {
   "cell_type": "code",
   "execution_count": 7,
   "metadata": {},
   "outputs": [],
   "source": [
    "# In case you're weak in list iterators...\n",
    "y_values = []\n",
    "for i in x_values:\n",
    "    result = 2*i + 1\n",
    "    y_values.append(result) "
   ]
  },
  {
   "cell_type": "code",
   "execution_count": 8,
   "metadata": {},
   "outputs": [
    {
     "data": {
      "text/plain": [
       "(11,)"
      ]
     },
     "execution_count": 8,
     "metadata": {},
     "output_type": "execute_result"
    }
   ],
   "source": [
    "y_train = np.array(y_values, dtype=np.float32)\n",
    "y_train.shape"
   ]
  },
  {
   "cell_type": "code",
   "execution_count": 9,
   "metadata": {},
   "outputs": [
    {
     "data": {
      "text/plain": [
       "(11, 1)"
      ]
     },
     "execution_count": 9,
     "metadata": {},
     "output_type": "execute_result"
    }
   ],
   "source": [
    "# IMPORTANT: 2D required\n",
    "y_train = y_train.reshape(-1, 1)\n",
    "y_train.shape"
   ]
  },
  {
   "cell_type": "code",
   "execution_count": 11,
   "metadata": {},
   "outputs": [],
   "source": [
    "# Create class\n",
    "class LinearRegressionModel(nn.Module):\n",
    "    def __init__(self, input_dim, output_dim):\n",
    "        super(LinearRegressionModel, self).__init__()\n",
    "        self.linear = nn.Linear(input_dim, output_dim)  \n",
    "\n",
    "    def forward(self, x):\n",
    "        out = self.linear(x)\n",
    "        return out"
   ]
  },
  {
   "cell_type": "code",
   "execution_count": 12,
   "metadata": {},
   "outputs": [],
   "source": [
    "input_dim = 1\n",
    "output_dim = 1\n",
    "\n",
    "model = LinearRegressionModel(input_dim, output_dim)"
   ]
  },
  {
   "cell_type": "code",
   "execution_count": 15,
   "metadata": {},
   "outputs": [],
   "source": [
    "epochs = 100\n",
    "learning_rate = 0.01\n",
    "\n",
    "criterion = nn.MSELoss()\n",
    "optimizer = torch.optim.SGD(model.parameters(), lr=learning_rate)"
   ]
  },
  {
   "cell_type": "code",
   "execution_count": 16,
   "metadata": {},
   "outputs": [
    {
     "name": "stdout",
     "output_type": "stream",
     "text": [
      "epoch 1, loss 126.87606811523438\n",
      "epoch 2, loss 10.533931732177734\n",
      "epoch 3, loss 1.0422096252441406\n",
      "epoch 4, loss 0.26595693826675415\n",
      "epoch 5, loss 0.20061951875686646\n",
      "epoch 6, loss 0.19329223036766052\n",
      "epoch 7, loss 0.19071854650974274\n",
      "epoch 8, loss 0.18855524063110352\n",
      "epoch 9, loss 0.1864469200372696\n",
      "epoch 10, loss 0.18436473608016968\n",
      "epoch 11, loss 0.1823057234287262\n",
      "epoch 12, loss 0.18026995658874512\n",
      "epoch 13, loss 0.17825715243816376\n",
      "epoch 14, loss 0.17626641690731049\n",
      "epoch 15, loss 0.1742982119321823\n",
      "epoch 16, loss 0.17235158383846283\n",
      "epoch 17, loss 0.17042706906795502\n",
      "epoch 18, loss 0.16852398216724396\n",
      "epoch 19, loss 0.16664202511310577\n",
      "epoch 20, loss 0.16478121280670166\n",
      "epoch 21, loss 0.1629410684108734\n",
      "epoch 22, loss 0.161121666431427\n",
      "epoch 23, loss 0.15932230651378632\n",
      "epoch 24, loss 0.15754330158233643\n",
      "epoch 25, loss 0.15578407049179077\n",
      "epoch 26, loss 0.1540442854166031\n",
      "epoch 27, loss 0.15232430398464203\n",
      "epoch 28, loss 0.15062321722507477\n",
      "epoch 29, loss 0.14894123375415802\n",
      "epoch 30, loss 0.14727793633937836\n",
      "epoch 31, loss 0.14563344419002533\n",
      "epoch 32, loss 0.14400696754455566\n",
      "epoch 33, loss 0.14239893853664398\n",
      "epoch 34, loss 0.1408090889453888\n",
      "epoch 35, loss 0.13923650979995728\n",
      "epoch 36, loss 0.13768164813518524\n",
      "epoch 37, loss 0.1361442357301712\n",
      "epoch 38, loss 0.13462390005588531\n",
      "epoch 39, loss 0.1331205666065216\n",
      "epoch 40, loss 0.13163422048091888\n",
      "epoch 41, loss 0.13016413152217865\n",
      "epoch 42, loss 0.12871064245700836\n",
      "epoch 43, loss 0.12727323174476624\n",
      "epoch 44, loss 0.12585200369358063\n",
      "epoch 45, loss 0.12444684654474258\n",
      "epoch 46, loss 0.12305710464715958\n",
      "epoch 47, loss 0.12168290466070175\n",
      "epoch 48, loss 0.12032413482666016\n",
      "epoch 49, loss 0.11898057907819748\n",
      "epoch 50, loss 0.1176517978310585\n",
      "epoch 51, loss 0.11633796989917755\n",
      "epoch 52, loss 0.11503874510526657\n",
      "epoch 53, loss 0.11375429481267929\n",
      "epoch 54, loss 0.11248400062322617\n",
      "epoch 55, loss 0.11122794449329376\n",
      "epoch 56, loss 0.10998580604791641\n",
      "epoch 57, loss 0.10875754058361053\n",
      "epoch 58, loss 0.10754302144050598\n",
      "epoch 59, loss 0.10634210705757141\n",
      "epoch 60, loss 0.10515477508306503\n",
      "epoch 61, loss 0.1039804220199585\n",
      "epoch 62, loss 0.10281937569379807\n",
      "epoch 63, loss 0.10167109221220016\n",
      "epoch 64, loss 0.10053568333387375\n",
      "epoch 65, loss 0.09941324591636658\n",
      "epoch 66, loss 0.09830307215452194\n",
      "epoch 67, loss 0.09720532596111298\n",
      "epoch 68, loss 0.09611978381872177\n",
      "epoch 69, loss 0.09504639357328415\n",
      "epoch 70, loss 0.09398496896028519\n",
      "epoch 71, loss 0.09293553233146667\n",
      "epoch 72, loss 0.09189774841070175\n",
      "epoch 73, loss 0.09087160229682922\n",
      "epoch 74, loss 0.08985679596662521\n",
      "epoch 75, loss 0.08885332942008972\n",
      "epoch 76, loss 0.08786115795373917\n",
      "epoch 77, loss 0.08687999844551086\n",
      "epoch 78, loss 0.08590997755527496\n",
      "epoch 79, loss 0.08495049923658371\n",
      "epoch 80, loss 0.08400199562311172\n",
      "epoch 81, loss 0.0830637514591217\n",
      "epoch 82, loss 0.08213626593351364\n",
      "epoch 83, loss 0.08121909946203232\n",
      "epoch 84, loss 0.08031214028596878\n",
      "epoch 85, loss 0.07941528409719467\n",
      "epoch 86, loss 0.07852856814861298\n",
      "epoch 87, loss 0.07765147089958191\n",
      "epoch 88, loss 0.07678449153900146\n",
      "epoch 89, loss 0.07592691481113434\n",
      "epoch 90, loss 0.0750790685415268\n",
      "epoch 91, loss 0.07424071431159973\n",
      "epoch 92, loss 0.07341157644987106\n",
      "epoch 93, loss 0.07259182631969452\n",
      "epoch 94, loss 0.07178124785423279\n",
      "epoch 95, loss 0.07097968459129333\n",
      "epoch 96, loss 0.07018709927797318\n",
      "epoch 97, loss 0.06940332055091858\n",
      "epoch 98, loss 0.06862843036651611\n",
      "epoch 99, loss 0.06786194443702698\n",
      "epoch 100, loss 0.06710421293973923\n"
     ]
    }
   ],
   "source": [
    "for epoch in range(epochs):\n",
    "    epoch += 1\n",
    "    # Convert numpy array to torch Variable\n",
    "    inputs = torch.from_numpy(x_train).requires_grad_()\n",
    "    labels = torch.from_numpy(y_train)\n",
    "\n",
    "    # Clear gradients w.r.t. parameters\n",
    "    optimizer.zero_grad() \n",
    "\n",
    "    # Forward to get output\n",
    "    outputs = model(inputs)\n",
    "\n",
    "    # Calculate Loss\n",
    "    loss = criterion(outputs, labels)\n",
    "\n",
    "    # Getting gradients w.r.t. parameters\n",
    "    loss.backward()\n",
    "\n",
    "    # Updating parameters\n",
    "    optimizer.step()\n",
    "\n",
    "    print('epoch {}, loss {}'.format(epoch, loss.item()))"
   ]
  },
  {
   "cell_type": "code",
   "execution_count": null,
   "metadata": {},
   "outputs": [],
   "source": []
  }
 ],
 "metadata": {
  "kernelspec": {
   "display_name": "base",
   "language": "python",
   "name": "python3"
  },
  "language_info": {
   "codemirror_mode": {
    "name": "ipython",
    "version": 3
   },
   "file_extension": ".py",
   "mimetype": "text/x-python",
   "name": "python",
   "nbconvert_exporter": "python",
   "pygments_lexer": "ipython3",
   "version": "3.9.13"
  },
  "orig_nbformat": 4
 },
 "nbformat": 4,
 "nbformat_minor": 2
}
